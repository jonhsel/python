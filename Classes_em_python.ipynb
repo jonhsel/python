{
  "nbformat": 4,
  "nbformat_minor": 0,
  "metadata": {
    "colab": {
      "name": "Classes em python",
      "private_outputs": true,
      "provenance": [],
      "authorship_tag": "ABX9TyOPZ1b1uT1nI1OBOUXDPFHS",
      "include_colab_link": true
    },
    "kernelspec": {
      "name": "python3",
      "display_name": "Python 3"
    },
    "language_info": {
      "name": "python"
    }
  },
  "cells": [
    {
      "cell_type": "markdown",
      "metadata": {
        "id": "view-in-github",
        "colab_type": "text"
      },
      "source": [
        "<a href=\"https://colab.research.google.com/github/jonhsel/python/blob/master/Classes_em_python.ipynb\" target=\"_parent\"><img src=\"https://colab.research.google.com/assets/colab-badge.svg\" alt=\"Open In Colab\"/></a>"
      ]
    },
    {
      "cell_type": "markdown",
      "metadata": {
        "id": "zLlnPOHkSAoo"
      },
      "source": [
        "## CLASSES"
      ]
    },
    {
      "cell_type": "code",
      "metadata": {
        "id": "C2JJWSsjOkN_"
      },
      "source": [
        "#definindo a classe\n",
        "class Livro():\n",
        "\n",
        "    #chamada do construtor\n",
        "    def __init__(self):\n",
        "\n",
        "        #definicao dos atributos\n",
        "        self.titulo = \"Data Science para Negócios\"\n",
        "        self.isbn = 8576089726\n",
        "        print(\"Aqui foi riado o metodo construtor\")\n",
        "\n",
        "    #criando metodos\n",
        "    def imprime(self):\n",
        "        print(\"O livro comprado foi %s, com ISBN: %d\" %(self.titulo, self.isbn))"
      ],
      "execution_count": null,
      "outputs": []
    },
    {
      "cell_type": "code",
      "metadata": {
        "id": "N7-0aCpmRLzW"
      },
      "source": [
        "#Cinstanciando o objeto\n",
        "#Foi criado um objeto Book, da do tipo Livro\n",
        "Book = Livro()"
      ],
      "execution_count": null,
      "outputs": []
    },
    {
      "cell_type": "markdown",
      "metadata": {
        "id": "O5Qr65GoSFkP"
      },
      "source": [
        "NO MOMENTO DA INSTANCIACAO FOI CHAMADO O METODO CONSTRUTOR"
      ]
    },
    {
      "cell_type": "code",
      "metadata": {
        "id": "8IC4ejDeR3U5"
      },
      "source": [
        "Book.isbn"
      ],
      "execution_count": null,
      "outputs": []
    },
    {
      "cell_type": "code",
      "metadata": {
        "id": "TlltRXwaSyWH"
      },
      "source": [
        "Book.titulo"
      ],
      "execution_count": null,
      "outputs": []
    },
    {
      "cell_type": "code",
      "metadata": {
        "id": "EoO1NxKuS-Tn"
      },
      "source": [
        "Book.imprime()"
      ],
      "execution_count": null,
      "outputs": []
    },
    {
      "cell_type": "markdown",
      "metadata": {
        "id": "GRubZxvMajum"
      },
      "source": [
        "## MODIFICANDO A CLASSE"
      ]
    },
    {
      "cell_type": "code",
      "metadata": {
        "id": "eGJEabS3TDLr"
      },
      "source": [
        "class LivroNew():\n",
        "    def __init__(self, titulo, isbn):\n",
        "        self.titulo = titulo\n",
        "        self.isbn = isbn\n",
        "        print(\"construtor chamado\")\n",
        "\n",
        "    def imprime(self):\n",
        "        print(\"O livro comprado foi\"+\" \\\" \"+ \"%s, e ISBN: %d\" %(self.titulo, self.isbn))"
      ],
      "execution_count": null,
      "outputs": []
    },
    {
      "cell_type": "code",
      "metadata": {
        "id": "5-C3EG4Jbtv5"
      },
      "source": [
        "Book2 = LivroNew(\"Storytelling\", 125454)"
      ],
      "execution_count": null,
      "outputs": []
    },
    {
      "cell_type": "code",
      "metadata": {
        "id": "VinE-tSccSNi"
      },
      "source": [
        "Book2.titulo"
      ],
      "execution_count": null,
      "outputs": []
    },
    {
      "cell_type": "code",
      "metadata": {
        "id": "FKTjGeadcwJc"
      },
      "source": [
        "Book2.isbn"
      ],
      "execution_count": null,
      "outputs": []
    },
    {
      "cell_type": "code",
      "metadata": {
        "id": "Zcn5OdK8cy5L"
      },
      "source": [
        "Book2.imprime()"
      ],
      "execution_count": null,
      "outputs": []
    },
    {
      "cell_type": "code",
      "metadata": {
        "id": "GfKdDCIQc5hK"
      },
      "source": [
        "Book3 = LivroNew(\"Learning Python\", 546874987)"
      ],
      "execution_count": null,
      "outputs": []
    },
    {
      "cell_type": "code",
      "metadata": {
        "id": "xGAO-D3Weyam"
      },
      "source": [
        "Book3.imprime()"
      ],
      "execution_count": null,
      "outputs": []
    },
    {
      "cell_type": "markdown",
      "metadata": {
        "id": "FWOmOYwBe7Zw"
      },
      "source": [
        ""
      ]
    },
    {
      "cell_type": "markdown",
      "metadata": {
        "id": "W3mzF0s5L_hq"
      },
      "source": [
        "# Métodos"
      ]
    },
    {
      "cell_type": "code",
      "metadata": {
        "id": "byuo4z56e4YT"
      },
      "source": [
        "#Criando uma classe chamada círculo\n",
        "class Circulo():\n",
        "\n",
        "    #valor constante de pi\n",
        "    pi = 3.14\n",
        "\n",
        "    #Construtor da classe\n",
        "    def __init__(self, raio = 5):\n",
        "        self.raio = raio\n",
        "\n",
        "    #Calcula a área do círculo\n",
        "    def area(self):\n",
        "        return (self.raio * self.raio) * Circulo.pi\n",
        "\n",
        "    #Metodo para gerar novo raio\n",
        "    def setRaio(self, novo_raio):\n",
        "        self.raio = novo_raio\n",
        "\n",
        "    #Metodo para obter o novo raio\n",
        "    def getRaio(self):\n",
        "        return self.raio"
      ],
      "execution_count": null,
      "outputs": []
    },
    {
      "cell_type": "code",
      "metadata": {
        "id": "CTYkfljBNThS"
      },
      "source": [
        "circ = Circulo()"
      ],
      "execution_count": null,
      "outputs": []
    },
    {
      "cell_type": "code",
      "metadata": {
        "id": "unPsIx8oNcrp"
      },
      "source": [
        "circ.area()"
      ],
      "execution_count": null,
      "outputs": []
    },
    {
      "cell_type": "code",
      "metadata": {
        "id": "80tbZvrfNfiQ"
      },
      "source": [
        "circ.getRaio()"
      ],
      "execution_count": null,
      "outputs": []
    },
    {
      "cell_type": "code",
      "metadata": {
        "id": "ywrsNwduNkLw"
      },
      "source": [
        "circ.setRaio(10)"
      ],
      "execution_count": null,
      "outputs": []
    },
    {
      "cell_type": "code",
      "metadata": {
        "id": "IavRvKPBNpTh"
      },
      "source": [
        "circ.getRaio()"
      ],
      "execution_count": null,
      "outputs": []
    },
    {
      "cell_type": "code",
      "metadata": {
        "id": "rBll2u6hNrA5"
      },
      "source": [
        "circ.area"
      ],
      "execution_count": null,
      "outputs": []
    },
    {
      "cell_type": "code",
      "metadata": {
        "id": "wA9fute9NtUZ"
      },
      "source": [
        "circ.area()"
      ],
      "execution_count": null,
      "outputs": []
    },
    {
      "cell_type": "code",
      "metadata": {
        "id": "tGnbob-LNvRp"
      },
      "source": [
        ""
      ],
      "execution_count": null,
      "outputs": []
    }
  ]
}