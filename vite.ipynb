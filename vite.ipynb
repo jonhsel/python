{
  "nbformat": 4,
  "nbformat_minor": 0,
  "metadata": {
    "colab": {
      "private_outputs": true,
      "provenance": [],
      "mount_file_id": "1MvgLgfy8baQTC8nItLoLWthEaSPx-mWP",
      "authorship_tag": "ABX9TyPafgeBk+CDJrxJ+TXjRS95"
    },
    "kernelspec": {
      "name": "python3",
      "display_name": "Python 3"
    },
    "language_info": {
      "name": "python"
    }
  },
  "cells": [
    {
      "cell_type": "code",
      "execution_count": null,
      "metadata": {
        "id": "_m_JF30cyTB_"
      },
      "outputs": [],
      "source": [
        "import pandas as pd\n",
        "import matplotlib.pyplot as plt\n",
        "import seaborn as sns\n",
        "import re\n",
        "\n",
        "\n",
        "def process_text_file(file_path):\n",
        "\n",
        "  with open(file_path, 'r') as f:\n",
        "    lines = f.readlines()\n",
        "\n",
        "  data = [] # create an empty list to store the extracted data\n",
        "  for line in lines:\n",
        "    # Usa expressão regular para extrair data, hora, autor e mensagem\n",
        "    pattern = r\"\\[(.*?)\\] (.*?): (.*)\"\n",
        "    match = re.match(pattern, line)\n",
        "    if match:\n",
        "      datetime_str = match.group(1)\n",
        "      autor = match.group(2)\n",
        "      mensagem = match.group(3)\n",
        "      # Separa data e hora\n",
        "      data_hora = datetime_str.split()\n",
        "      data_str = data_hora[0] # assign the date string to a new variable data_str\n",
        "      hora = data_hora[1]\n",
        "      data.append([data_str, hora, autor, mensagem]) # append the data to the list\n",
        "\n",
        "  # Cria o DataFrame pandas\n",
        "  df = pd.DataFrame(data, columns=['data', 'hora', 'autor', 'mensagem'])\n",
        "  return df\n",
        "\n",
        "# Caminho do arquivo\n",
        "file_path = '/content/drive/MyDrive/vite.txt'\n",
        "\n",
        "# Processa o arquivo e cria o DataFrame\n",
        "df = process_text_file(file_path)\n",
        "\n"
      ]
    },
    {
      "cell_type": "code",
      "source": [
        "df.head()"
      ],
      "metadata": {
        "id": "SDJrBy_i5Psq"
      },
      "execution_count": null,
      "outputs": []
    },
    {
      "cell_type": "code",
      "source": [
        "df.info()"
      ],
      "metadata": {
        "id": "nDhcUzvcjl98"
      },
      "execution_count": null,
      "outputs": []
    },
    {
      "cell_type": "code",
      "source": [
        "#transformar o campo data em datetime\n",
        "\n",
        "df['data'] = pd.to_datetime(df['data'], format='%d/%m/%Y', errors='coerce') # specify the format of the datestring and handle errors\n",
        "#df['data'] = pd.to_datetime(df['data'], format='%d/%m/%Y') # specify the format of the datestring and handle errors\n"
      ],
      "metadata": {
        "id": "05B-bh-sjxMp"
      },
      "execution_count": null,
      "outputs": []
    },
    {
      "cell_type": "code",
      "source": [
        "df.info()"
      ],
      "metadata": {
        "id": "c3qMD8wRkXGX"
      },
      "execution_count": null,
      "outputs": []
    },
    {
      "cell_type": "code",
      "source": [
        "df.head()"
      ],
      "metadata": {
        "id": "HVlCBd0vHZPL"
      },
      "execution_count": null,
      "outputs": []
    },
    {
      "cell_type": "code",
      "source": [
        "# Exibe o DataFrame\n",
        "#print(df)\n",
        "#df.head()\n",
        "data_inicial = input('Inserir data no formato dd/mm/YYYY:  ')\n",
        "#data_inicial = '01/08/2024'  # Define a data inicial desejada\n",
        "\n",
        "#inserir no formato americano\n",
        "\n",
        "df_filtered = df[df['data'] >= data_inicial]\n",
        "#df_filtered = df[df['data'] >= '01/07/2024']\n",
        "\n",
        "\n"
      ],
      "metadata": {
        "id": "ZkK_S4K7pIcG"
      },
      "execution_count": null,
      "outputs": []
    },
    {
      "cell_type": "code",
      "source": [
        "df_filtered.info()"
      ],
      "metadata": {
        "id": "c0Kxl5gde4XJ"
      },
      "execution_count": null,
      "outputs": []
    },
    {
      "cell_type": "code",
      "source": [
        "df_filtered.head(30)"
      ],
      "metadata": {
        "id": "ldsI1KZcBsZY"
      },
      "execution_count": null,
      "outputs": []
    },
    {
      "cell_type": "code",
      "source": [
        "df_filtered.info()"
      ],
      "metadata": {
        "id": "OotU97s0og-a"
      },
      "execution_count": null,
      "outputs": []
    },
    {
      "cell_type": "code",
      "source": [
        "#mensagens_por_autor = df['autor'].value_counts()\n",
        "mensagens_por_autor = df_filtered['autor'].value_counts()\n",
        "\n",
        "\n",
        "#imprimir os 20 maiores do dia 01/08/2024 até 13/09/202413:55\n",
        "hanking = input('Insira a quantidade de posições:  ')\n",
        "print('==================================')\n",
        "print(' ')\n",
        "print('Serão mostrados os '+ hanking+ ' primeiros a partir de '+ data_inicial)\n",
        "print(' ')\n",
        "print('==================================')\n",
        "\n",
        "# Criar um DataFrame com a contagem de mensagens por autor e a posição\n",
        "ranking_df = pd.DataFrame({'Autor': mensagens_por_autor.index, 'Mensagens': mensagens_por_autor.values}, index=range(1, len(mensagens_por_autor) + 1))\n",
        "\n",
        "# Mostrar o ranking com a posição\n",
        "print(ranking_df.head(int(hanking)))"
      ],
      "metadata": {
        "id": "yntrG6G0BLC6"
      },
      "execution_count": null,
      "outputs": []
    },
    {
      "cell_type": "code",
      "source": [
        " # 1. Número de mensagens por autor\n",
        "#mensagens_por_autor = df_filtered['autor'].value_counts()\n",
        "print(\"Número de mensagens por autor:\\n\", mensagens_por_autor)\n",
        "plt.figure(figsize=(100, 50))\n",
        "#sns.countplot(x='autor', data=df_filtered)\n",
        "#sns.barplot(x='autor', y=mensagens_por_autor, data=df_filtered, palette='pastel')\n",
        "#plt.xticks(rotation=45)\n",
        "#plt.show()\n",
        "plt.figure(figsize=(100, 50))\n",
        "plt.bar(mensagens_por_autor.index, mensagens_por_autor.values)\n",
        "plt.title('Número de mensagens por autor')\n",
        "plt.xlabel('Autor')\n",
        "plt.ylabel('Número de mensagens')\n",
        "plt.tight_layout()\n",
        "#plt.xticks(rotation=45)\n",
        "plt.show()"
      ],
      "metadata": {
        "id": "LpmfW45cS8rx"
      },
      "execution_count": null,
      "outputs": []
    },
    {
      "cell_type": "code",
      "source": [
        "# 2. Distribuição de mensagens ao longo do tempo\n",
        "# Remove brackets and any leading/trailing spaces\n",
        "#df['data'] = df['data'].str.strip('[] ').replace('', pd.NA)\n",
        "# Convert to datetime, handling errors by setting invalid dates to NaT\n",
        "df_filtered['data'] = pd.to_datetime(df_filtered['data'], format='%d/%m/%Y %H:%M:%S', errors='coerce')\n",
        "# Remove rows with NaT in 'data' column\n",
        "df = df_filtered.dropna(subset=['data'])\n",
        "mensagens_por_data = df_filtered.groupby(df['data'].dt.date)['mensagem'].count()\n",
        "plt.figure(figsize=(20, 10))\n",
        "plt.plot(mensagens_por_data.index, mensagens_por_data.values)\n",
        "plt.title('Distribuição de mensagens ao longo do tempo')\n",
        "plt.xlabel('Data')\n",
        "plt.ylabel('Número de mensagens')\n",
        "plt.xticks(rotation=45)\n",
        "plt.show()\n",
        "\n"
      ],
      "metadata": {
        "id": "FbN56iRAd1bg"
      },
      "execution_count": null,
      "outputs": []
    },
    {
      "cell_type": "code",
      "source": [
        "# 3. Palavras mais frequentes\n",
        "from collections import Counter\n",
        "todas_as_palavras = []\n",
        "for mensagem in df_filtered['mensagem']:\n",
        "  palavras = mensagem.split()\n",
        "  todas_as_palavras.extend(palavras)\n",
        "contagem_palavras = Counter(todas_as_palavras)\n",
        "palavras_mais_frequentes = contagem_palavras.most_common(200)\n",
        "print(\"Palavras mais frequentes:\\n\", palavras_mais_frequentes)"
      ],
      "metadata": {
        "id": "Uhh5Gmp6d3I-"
      },
      "execution_count": null,
      "outputs": []
    },
    {
      "cell_type": "code",
      "source": [
        "# prompt: desejo realizar análise de sentimentos\n",
        "\n",
        "!pip install textblob\n",
        "\n",
        "from textblob import TextBlob\n",
        "\n",
        "# Função para analisar o sentimento da mensagem\n",
        "def analisar_sentimento(texto):\n",
        "  analysis = TextBlob(texto)\n",
        "  if analysis.sentiment.polarity > 0:\n",
        "    return 'positivo'\n",
        "  elif analysis.sentiment.polarity < 0:\n",
        "    return 'negativo'\n",
        "  else:\n",
        "    return 'neutro'\n",
        "\n",
        "#prompt: inserir data no formato dd/mm/YYYY:\n",
        "#data_inicial = input('Inserir data no formato dd/mm/YYYY:  ')\n",
        "#df_filtered = df[df['data'] >= str(data_inicial)]\n",
        "\n",
        "#mensagens_por_autor = df['autor'].value_counts()\n",
        "#mensagens_por_autor = df_filtered['autor'].value_counts()\n",
        "\n",
        "\n",
        "# Aplicar a função de análise de sentimento às mensagens\n",
        "df_filtered['sentimento'] = df_filtered['mensagem'].apply(analisar_sentimento)\n",
        "\n",
        "# Analisar a distribuição de sentimentos\n",
        "sentimentos_por_autor = df_filtered.groupby('autor')['sentimento'].value_counts()\n",
        "#sentimentos_por_autor = df_filtered.groupby('autor')[df_filtered['sentimento']=='negativo'].value_counts()\n",
        "print(\"Sentimentos por autor:\\n\", sentimentos_por_autor)\n",
        "\n",
        "# Visualizar a distribuição de sentimentos\n",
        "plt.figure(figsize=(10, 5))\n",
        "sns.countplot(x='sentimento', data=df_filtered)\n",
        "plt.title('Distribuição de sentimentos')\n",
        "plt.xlabel('Sentimento')\n",
        "plt.ylabel('Número de mensagens')\n",
        "plt.show()"
      ],
      "metadata": {
        "id": "p_pkt39als47"
      },
      "execution_count": null,
      "outputs": []
    },
    {
      "cell_type": "code",
      "source": [
        "#df_filtered[df_filtered['sentimento']=='positivo'].head(50)\n",
        "df_filtered[df_filtered['sentimento']=='negativo'].head(50)"
      ],
      "metadata": {
        "id": "uplJijl9unEd"
      },
      "execution_count": null,
      "outputs": []
    },
    {
      "cell_type": "code",
      "source": [
        "print(df_filtered[df_filtered['autor']=='Jonh Selmo'].groupby('autor')['sentimento'].value_counts())"
      ],
      "metadata": {
        "id": "Ic6IYZxPwReD"
      },
      "execution_count": null,
      "outputs": []
    }
  ]
}