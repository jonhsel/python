{
 "cells": [
  {
   "cell_type": "code",
   "execution_count": 75,
   "metadata": {},
   "outputs": [],
   "source": [
    "import sqlite3\n",
    "import random\n",
    "import time\n",
    "import datetime\n",
    "\n",
    "#criando a conexão com o banco de dados\n",
    "conn = sqlite3.connect('dsa.db')\n",
    "\n",
    "#criando o cursor\n",
    "cur = conn.cursor()\n",
    "\n",
    "#função para criar tabelas\n",
    "def create_table():\n",
    "    cur.execute('CREATE TABLE IF NOT EXISTS produtos(id INTEGER PRIMARY KEY AUTOINCREMENT, data TEXT, '\\\n",
    "                'prod_name TEXT, valor REAL)')\n",
    "    \n",
    "#funcao para inserir valores na tabela\n",
    "def data_insert():\n",
    "    cur.execute(\"INSERT INTO produtos VALUES( '2021-07-10 15:00:01', 'TECLADO', 110.5)\")\n",
    "    conn.commit()\n",
    "    cur.close()\n",
    "    conn.close()\n",
    "    \n",
    "#funcão de pesquisa\n",
    "def data_select():\n",
    "    cur.execute('SELECT * FROM produtos') #nesse ponto, os dados foram gravados no cursor\n",
    "    for dados in cur.fetchall():\n",
    "        #com os dados no cursor, eles podem ser acessados utilizando o fetchall\n",
    "        print(dados)\n",
    "    \n",
    "#funcao de pesquisa de dados específicos - WHERE\n",
    "def data_select_espf():\n",
    "    cur.execute('SELECT * FROM produtos WHERE valor > 90.0')\n",
    "    for dados in cur.fetchall():\n",
    "        print (dados)\n",
    "        \n",
    "#funcao para retornar a coluna\n",
    "def data_select_coluna():\n",
    "    cur.execute('SELECT * FROM produtos')\n",
    "    for coluna in cur.fetchall():\n",
    "        print(coluna[3]) #assim retorna o valor da posição 3 dos vetores\n",
    "        \n",
    "#Update\n",
    "def atualiza_dados():\n",
    "    cur.execute(\"UPDATE produtos SET valor = 70.0 WHERE valor > 100\")\n",
    "    conn.commit()\n",
    "    \n",
    "#deleção\n",
    "def remove_dados():\n",
    "    cur.execute(\"DELETE FROM produtos WHERE valor = 60.0\")\n",
    "    conn.commit()\n",
    "\n"
   ]
  },
  {
   "cell_type": "code",
   "execution_count": null,
   "metadata": {},
   "outputs": [],
   "source": []
  },
  {
   "cell_type": "code",
   "execution_count": 69,
   "metadata": {},
   "outputs": [],
   "source": [
    "create_table()"
   ]
  },
  {
   "cell_type": "code",
   "execution_count": 76,
   "metadata": {},
   "outputs": [
    {
     "ename": "OperationalError",
     "evalue": "table produtos has 4 columns but 3 values were supplied",
     "output_type": "error",
     "traceback": [
      "\u001b[0;31m---------------------------------------------------------------------------\u001b[0m",
      "\u001b[0;31mOperationalError\u001b[0m                          Traceback (most recent call last)",
      "\u001b[0;32m<ipython-input-76-7084d139ae24>\u001b[0m in \u001b[0;36m<module>\u001b[0;34m\u001b[0m\n\u001b[0;32m----> 1\u001b[0;31m \u001b[0mdata_insert\u001b[0m\u001b[0;34m(\u001b[0m\u001b[0;34m)\u001b[0m\u001b[0;34m\u001b[0m\u001b[0;34m\u001b[0m\u001b[0m\n\u001b[0m",
      "\u001b[0;32m<ipython-input-75-54dfd1c6dc85>\u001b[0m in \u001b[0;36mdata_insert\u001b[0;34m()\u001b[0m\n\u001b[1;32m     17\u001b[0m \u001b[0;31m#funcao para inserir valores na tabela\u001b[0m\u001b[0;34m\u001b[0m\u001b[0;34m\u001b[0m\u001b[0;34m\u001b[0m\u001b[0m\n\u001b[1;32m     18\u001b[0m \u001b[0;32mdef\u001b[0m \u001b[0mdata_insert\u001b[0m\u001b[0;34m(\u001b[0m\u001b[0;34m)\u001b[0m\u001b[0;34m:\u001b[0m\u001b[0;34m\u001b[0m\u001b[0;34m\u001b[0m\u001b[0m\n\u001b[0;32m---> 19\u001b[0;31m     \u001b[0mcur\u001b[0m\u001b[0;34m.\u001b[0m\u001b[0mexecute\u001b[0m\u001b[0;34m(\u001b[0m\u001b[0;34m\"INSERT INTO produtos VALUES( '2021-07-10 15:00:01', 'TECLADO', 110.5)\"\u001b[0m\u001b[0;34m)\u001b[0m\u001b[0;34m\u001b[0m\u001b[0;34m\u001b[0m\u001b[0m\n\u001b[0m\u001b[1;32m     20\u001b[0m     \u001b[0mconn\u001b[0m\u001b[0;34m.\u001b[0m\u001b[0mcommit\u001b[0m\u001b[0;34m(\u001b[0m\u001b[0;34m)\u001b[0m\u001b[0;34m\u001b[0m\u001b[0;34m\u001b[0m\u001b[0m\n\u001b[1;32m     21\u001b[0m     \u001b[0mcur\u001b[0m\u001b[0;34m.\u001b[0m\u001b[0mclose\u001b[0m\u001b[0;34m(\u001b[0m\u001b[0;34m)\u001b[0m\u001b[0;34m\u001b[0m\u001b[0;34m\u001b[0m\u001b[0m\n",
      "\u001b[0;31mOperationalError\u001b[0m: table produtos has 4 columns but 3 values were supplied"
     ]
    }
   ],
   "source": [
    "data_insert()"
   ]
  },
  {
   "cell_type": "code",
   "execution_count": 34,
   "metadata": {},
   "outputs": [
    {
     "name": "stdout",
     "output_type": "stream",
     "text": [
      "(1, '2021-07-11 06:01:10', 'TECLADO', 120.5)\n",
      "(1001, '2021-07-10 06:52:10', 'mouse deluxe', 60.0)\n"
     ]
    }
   ],
   "source": [
    "data_select()"
   ]
  },
  {
   "cell_type": "code",
   "execution_count": 35,
   "metadata": {},
   "outputs": [
    {
     "name": "stdout",
     "output_type": "stream",
     "text": [
      "(1, '2021-07-11 06:01:10', 'TECLADO', 120.5)\n"
     ]
    }
   ],
   "source": [
    "data_select_espf()"
   ]
  },
  {
   "cell_type": "code",
   "execution_count": 36,
   "metadata": {},
   "outputs": [
    {
     "name": "stdout",
     "output_type": "stream",
     "text": [
      "120.5\n",
      "60.0\n"
     ]
    }
   ],
   "source": [
    "data_select_coluna()"
   ]
  },
  {
   "cell_type": "code",
   "execution_count": 48,
   "metadata": {},
   "outputs": [],
   "source": [
    "atualiza_dados()"
   ]
  },
  {
   "cell_type": "code",
   "execution_count": 49,
   "metadata": {},
   "outputs": [
    {
     "name": "stdout",
     "output_type": "stream",
     "text": [
      "(1, '2021-07-11 06:01:10', 'TECLADO', 70.0)\n",
      "(1001, '2021-07-10 06:52:10', 'mouse deluxe', 60.0)\n"
     ]
    }
   ],
   "source": [
    "data_select()"
   ]
  },
  {
   "cell_type": "code",
   "execution_count": 50,
   "metadata": {},
   "outputs": [],
   "source": [
    "remove_dados()"
   ]
  },
  {
   "cell_type": "code",
   "execution_count": 51,
   "metadata": {},
   "outputs": [
    {
     "name": "stdout",
     "output_type": "stream",
     "text": [
      "(1, '2021-07-11 06:01:10', 'TECLADO', 70.0)\n"
     ]
    }
   ],
   "source": [
    "data_select()"
   ]
  }
 ],
 "metadata": {
  "kernelspec": {
   "display_name": "Python 3",
   "language": "python",
   "name": "python3"
  },
  "language_info": {
   "codemirror_mode": {
    "name": "ipython",
    "version": 3
   },
   "file_extension": ".py",
   "mimetype": "text/x-python",
   "name": "python",
   "nbconvert_exporter": "python",
   "pygments_lexer": "ipython3",
   "version": "3.7.6"
  }
 },
 "nbformat": 4,
 "nbformat_minor": 4
}
