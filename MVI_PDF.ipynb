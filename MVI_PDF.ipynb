{
  "nbformat": 4,
  "nbformat_minor": 0,
  "metadata": {
    "colab": {
      "name": "MVI_PDF.ipynb",
      "provenance": [],
      "toc_visible": true,
      "mount_file_id": "1z3ulCrKIWtCtMmNzswfnsCKT6HInJj7m",
      "authorship_tag": "ABX9TyODuwQqE25Qi9i8IUmvqCpU",
      "include_colab_link": true
    },
    "kernelspec": {
      "name": "python3",
      "display_name": "Python 3"
    }
  },
  "cells": [
    {
      "cell_type": "markdown",
      "metadata": {
        "id": "view-in-github",
        "colab_type": "text"
      },
      "source": [
        "<a href=\"https://colab.research.google.com/github/jonhsel/python/blob/master/MVI_PDF.ipynb\" target=\"_parent\"><img src=\"https://colab.research.google.com/assets/colab-badge.svg\" alt=\"Open In Colab\"/></a>"
      ]
    },
    {
      "cell_type": "markdown",
      "metadata": {
        "id": "RiLF0XM3dR2s",
        "colab_type": "text"
      },
      "source": [
        "## CONVERSÃO DE ARQUIVOS .PDF EM .CSV"
      ]
    },
    {
      "cell_type": "code",
      "metadata": {
        "id": "3g6eSMqUdWwR",
        "colab_type": "code",
        "colab": {
          "base_uri": "https://localhost:8080/",
          "height": 241
        },
        "outputId": "5053b335-a83e-4995-ab62-ff8f2dd77227"
      },
      "source": [
        "#INSTRUÇÃO DE INSTALAÇÃO DO TABULA\n",
        "!pip install tabula-py\n"
      ],
      "execution_count": null,
      "outputs": [
        {
          "output_type": "stream",
          "text": [
            "Collecting tabula-py\n",
            "\u001b[?25l  Downloading https://files.pythonhosted.org/packages/8d/ed/20655a47a603430272c995d908d0dd96f93c2aa8973c8a55a66c8f3b8dfe/tabula_py-2.1.1-py3-none-any.whl (10.4MB)\n",
            "\u001b[K     |████████████████████████████████| 10.4MB 3.1MB/s \n",
            "\u001b[?25hCollecting distro\n",
            "  Downloading https://files.pythonhosted.org/packages/25/b7/b3c4270a11414cb22c6352ebc7a83aaa3712043be29daa05018fd5a5c956/distro-1.5.0-py2.py3-none-any.whl\n",
            "Requirement already satisfied: pandas>=0.25.3 in /usr/local/lib/python3.6/dist-packages (from tabula-py) (1.0.5)\n",
            "Requirement already satisfied: numpy in /usr/local/lib/python3.6/dist-packages (from tabula-py) (1.18.5)\n",
            "Requirement already satisfied: pytz>=2017.2 in /usr/local/lib/python3.6/dist-packages (from pandas>=0.25.3->tabula-py) (2018.9)\n",
            "Requirement already satisfied: python-dateutil>=2.6.1 in /usr/local/lib/python3.6/dist-packages (from pandas>=0.25.3->tabula-py) (2.8.1)\n",
            "Requirement already satisfied: six>=1.5 in /usr/local/lib/python3.6/dist-packages (from python-dateutil>=2.6.1->pandas>=0.25.3->tabula-py) (1.12.0)\n",
            "Installing collected packages: distro, tabula-py\n",
            "Successfully installed distro-1.5.0 tabula-py-2.1.1\n"
          ],
          "name": "stdout"
        }
      ]
    },
    {
      "cell_type": "code",
      "metadata": {
        "id": "Fp3Fu8qAdjV5",
        "colab_type": "code",
        "colab": {}
      },
      "source": [
        "import tabula"
      ],
      "execution_count": null,
      "outputs": []
    },
    {
      "cell_type": "code",
      "metadata": {
        "id": "XCdpaD-pd-da",
        "colab_type": "code",
        "colab": {
          "base_uri": "https://localhost:8080/",
          "height": 34
        },
        "outputId": "7af7a0af-3ff2-441d-d919-1233781945e8"
      },
      "source": [
        "#ENTRADA NDO ARQUIVO\n",
        "entrada = input(\"Digite nome do arquivo.pdf: \")"
      ],
      "execution_count": null,
      "outputs": [
        {
          "output_type": "stream",
          "text": [
            "Digite nome do arquivo.pdf: mvi202006\n"
          ],
          "name": "stdout"
        }
      ]
    },
    {
      "cell_type": "code",
      "metadata": {
        "id": "31Fp-WA9ds6F",
        "colab_type": "code",
        "colab": {
          "base_uri": "https://localhost:8080/",
          "height": 51
        },
        "outputId": "2db1d9a0-361d-4a36-b86c-4377eb068d01"
      },
      "source": [
        "#APLICAÇÃO DAS EXTENSÕES\n",
        "nomeArquivo = entrada+'.pdf'\n",
        "print(nomeArquivo)\n",
        "nomeArquivocsv = entrada+'.csv'\n",
        "print(nomeArquivocsv)"
      ],
      "execution_count": null,
      "outputs": [
        {
          "output_type": "stream",
          "text": [
            "mvi202006.pdf\n",
            "mvi202006.csv\n"
          ],
          "name": "stdout"
        }
      ]
    },
    {
      "cell_type": "code",
      "metadata": {
        "id": "ALxYvPsjr0iA",
        "colab_type": "code",
        "colab": {}
      },
      "source": [
        "#ABERTURA DO ARQUIVO PARA LEITURA\n",
        "#f = open('arquivos/'+nomeArquivo, 'r')\n",
        "f = open(nomeArquivo, 'r')\n",
        "print('Lendo o arquivo...')\n",
        "arquivo = tabula.read_pdf(nomeArquivo, pages=\"all\")\n",
        "print('Leitura de arquivo '+nomeArquivo+' ok')"
      ],
      "execution_count": null,
      "outputs": []
    },
    {
      "cell_type": "code",
      "metadata": {
        "id": "F6uCbrSQr4CG",
        "colab_type": "code",
        "colab": {}
      },
      "source": [
        "#ETAPA DE CONVERSÃO\n",
        "print('Convertendo o arquivo '+ nomeArquivo+' para .csv')\n",
        "tabula.convert_into(nomeArquivo, nomeArquivocsv, output_format=\"csv\", pages=\"all\")\n",
        "print('Arquivo convertido para ' + nomeArquivocsv)"
      ],
      "execution_count": null,
      "outputs": []
    },
    {
      "cell_type": "code",
      "metadata": {
        "id": "4NbYqLocvh4L",
        "colab_type": "code",
        "colab": {}
      },
      "source": [
        ""
      ],
      "execution_count": null,
      "outputs": []
    }
  ]
}