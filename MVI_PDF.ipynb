{
  "nbformat": 4,
  "nbformat_minor": 0,
  "metadata": {
    "colab": {
      "name": "MVI_PDF.ipynb",
      "provenance": [],
      "mount_file_id": "1z3ulCrKIWtCtMmNzswfnsCKT6HInJj7m",
      "authorship_tag": "ABX9TyOSrtWL5WW02IWY+U7CLVwh",
      "include_colab_link": true
    },
    "kernelspec": {
      "name": "python3",
      "display_name": "Python 3"
    }
  },
  "cells": [
    {
      "cell_type": "markdown",
      "metadata": {
        "id": "view-in-github",
        "colab_type": "text"
      },
      "source": [
        "<a href=\"https://colab.research.google.com/github/jonhsel/python/blob/master/MVI_PDF.ipynb\" target=\"_parent\"><img src=\"https://colab.research.google.com/assets/colab-badge.svg\" alt=\"Open In Colab\"/></a>"
      ]
    },
    {
      "cell_type": "markdown",
      "metadata": {
        "id": "RiLF0XM3dR2s",
        "colab_type": "text"
      },
      "source": [
        "## CONVERSÃO DE ARQUIVOS .PDF EM .CSV"
      ]
    },
    {
      "cell_type": "code",
      "metadata": {
        "id": "3g6eSMqUdWwR",
        "colab_type": "code",
        "colab": {
          "base_uri": "https://localhost:8080/",
          "height": 230
        },
        "outputId": "71b84933-1302-4ee0-8284-6246f94dc2a0"
      },
      "source": [
        "#INSTRUÇÃO DE INSTALAÇÃO DO TABULA\n",
        "!pip install tabula-py\n"
      ],
      "execution_count": 1,
      "outputs": [
        {
          "output_type": "stream",
          "text": [
            "Collecting tabula-py\n",
            "\u001b[?25l  Downloading https://files.pythonhosted.org/packages/cf/29/d6cb0d77ef46d84d35cffa09cf42c73b373aea664d28604eab6818f8a47c/tabula_py-2.2.0-py3-none-any.whl (11.7MB)\n",
            "\u001b[K     |████████████████████████████████| 11.7MB 291kB/s \n",
            "\u001b[?25hRequirement already satisfied: pandas>=0.25.3 in /usr/local/lib/python3.6/dist-packages (from tabula-py) (1.0.5)\n",
            "Collecting distro\n",
            "  Downloading https://files.pythonhosted.org/packages/25/b7/b3c4270a11414cb22c6352ebc7a83aaa3712043be29daa05018fd5a5c956/distro-1.5.0-py2.py3-none-any.whl\n",
            "Requirement already satisfied: numpy in /usr/local/lib/python3.6/dist-packages (from tabula-py) (1.18.5)\n",
            "Requirement already satisfied: pytz>=2017.2 in /usr/local/lib/python3.6/dist-packages (from pandas>=0.25.3->tabula-py) (2018.9)\n",
            "Requirement already satisfied: python-dateutil>=2.6.1 in /usr/local/lib/python3.6/dist-packages (from pandas>=0.25.3->tabula-py) (2.8.1)\n",
            "Requirement already satisfied: six>=1.5 in /usr/local/lib/python3.6/dist-packages (from python-dateutil>=2.6.1->pandas>=0.25.3->tabula-py) (1.15.0)\n",
            "Installing collected packages: distro, tabula-py\n",
            "Successfully installed distro-1.5.0 tabula-py-2.2.0\n"
          ],
          "name": "stdout"
        }
      ]
    },
    {
      "cell_type": "code",
      "metadata": {
        "id": "Fp3Fu8qAdjV5",
        "colab_type": "code",
        "colab": {}
      },
      "source": [
        "import tabula"
      ],
      "execution_count": 2,
      "outputs": []
    },
    {
      "cell_type": "markdown",
      "metadata": {
        "id": "VUyyyv2uJJs8",
        "colab_type": "text"
      },
      "source": [
        "/content/drive/My Drive/mvi202007.pdf\n"
      ]
    },
    {
      "cell_type": "code",
      "metadata": {
        "id": "XCdpaD-pd-da",
        "colab_type": "code",
        "colab": {
          "base_uri": "https://localhost:8080/",
          "height": 34
        },
        "outputId": "68b34f1a-b9e4-49aa-bd44-526e31202d1e"
      },
      "source": [
        "#ENTRADA NDO ARQUIVO\n",
        "entrada = input(\"Digite nome do arquivo.pdf: \")"
      ],
      "execution_count": 10,
      "outputs": [
        {
          "output_type": "stream",
          "text": [
            "Digite nome do arquivo.pdf: mvi202008\n"
          ],
          "name": "stdout"
        }
      ]
    },
    {
      "cell_type": "code",
      "metadata": {
        "id": "31Fp-WA9ds6F",
        "colab_type": "code",
        "colab": {
          "base_uri": "https://localhost:8080/",
          "height": 52
        },
        "outputId": "deef8093-b8ad-4d5c-ce1b-c10658f79e7d"
      },
      "source": [
        "#APLICAÇÃO DAS EXTENSÕES\n",
        "nomeArquivo = entrada+'.pdf'\n",
        "print(nomeArquivo)\n",
        "nomeArquivocsv = entrada+'.csv'\n",
        "print(nomeArquivocsv)"
      ],
      "execution_count": 11,
      "outputs": [
        {
          "output_type": "stream",
          "text": [
            "mvi202008.pdf\n",
            "mvi202008.csv\n"
          ],
          "name": "stdout"
        }
      ]
    },
    {
      "cell_type": "code",
      "metadata": {
        "id": "ALxYvPsjr0iA",
        "colab_type": "code",
        "colab": {
          "base_uri": "https://localhost:8080/",
          "height": 52
        },
        "outputId": "6c286966-2b4c-4abf-edc3-7128d8a1f90d"
      },
      "source": [
        "#ABERTURA DO ARQUIVO PARA LEITURA\n",
        "#f = open('arquivos/'+nomeArquivo, 'r')\n",
        "f = open(nomeArquivo, 'r')\n",
        "print('Lendo o arquivo...')\n",
        "arquivo = tabula.read_pdf(nomeArquivo, pages=\"all\")\n",
        "print('Leitura de arquivo '+nomeArquivo+' ok')"
      ],
      "execution_count": 12,
      "outputs": [
        {
          "output_type": "stream",
          "text": [
            "Lendo o arquivo...\n",
            "Leitura de arquivo mvi202008.pdf ok\n"
          ],
          "name": "stdout"
        }
      ]
    },
    {
      "cell_type": "code",
      "metadata": {
        "id": "F6uCbrSQr4CG",
        "colab_type": "code",
        "colab": {
          "base_uri": "https://localhost:8080/",
          "height": 52
        },
        "outputId": "b449929e-2402-4275-c95b-4497322eb19b"
      },
      "source": [
        "#ETAPA DE CONVERSÃO\n",
        "print('Convertendo o arquivo '+ nomeArquivo+' para .csv')\n",
        "tabula.convert_into(nomeArquivo, nomeArquivocsv, output_format=\"csv\", pages=\"all\")\n",
        "print('Arquivo convertido para ' + nomeArquivocsv)"
      ],
      "execution_count": 13,
      "outputs": [
        {
          "output_type": "stream",
          "text": [
            "Convertendo o arquivo mvi202008.pdf para .csv\n",
            "Arquivo convertido para mvi202008.csv\n"
          ],
          "name": "stdout"
        }
      ]
    },
    {
      "cell_type": "code",
      "metadata": {
        "id": "4NbYqLocvh4L",
        "colab_type": "code",
        "colab": {}
      },
      "source": [
        ""
      ],
      "execution_count": null,
      "outputs": []
    }
  ]
}