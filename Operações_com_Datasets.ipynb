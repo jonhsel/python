{
  "nbformat": 4,
  "nbformat_minor": 0,
  "metadata": {
    "colab": {
      "name": "Operações com Datasets.ipynb",
      "private_outputs": true,
      "provenance": [],
      "toc_visible": true,
      "authorship_tag": "ABX9TyNnAHvYOUQL4JQAn16B8VGk",
      "include_colab_link": true
    },
    "kernelspec": {
      "name": "python3",
      "display_name": "Python 3"
    },
    "language_info": {
      "name": "python"
    }
  },
  "cells": [
    {
      "cell_type": "markdown",
      "metadata": {
        "id": "view-in-github",
        "colab_type": "text"
      },
      "source": [
        "<a href=\"https://colab.research.google.com/github/jonhsel/python/blob/master/Opera%C3%A7%C3%B5es_com_Datasets.ipynb\" target=\"_parent\"><img src=\"https://colab.research.google.com/assets/colab-badge.svg\" alt=\"Open In Colab\"/></a>"
      ]
    },
    {
      "cell_type": "markdown",
      "metadata": {
        "id": "MJOGVEvBMs73"
      },
      "source": [
        "# OPERAÇÕES COM DATASETs"
      ]
    },
    {
      "cell_type": "markdown",
      "metadata": {
        "id": "0-etUxl9Mz3s"
      },
      "source": [
        "## Mnipulação de arquivos TXT"
      ]
    },
    {
      "cell_type": "code",
      "metadata": {
        "id": "pdSvmaEqMpWa"
      },
      "source": [
        "texto = \"Cientistas de dados é a profissão que mais tem crescido .\\n\"\n",
        "texto = texto + \"Esses profissionais devem possuir skills em Programação, Estatística e Machine Learning .\\n\"\n",
        "texto += \"E Big Data.\""
      ],
      "execution_count": null,
      "outputs": []
    },
    {
      "cell_type": "code",
      "metadata": {
        "id": "9as0Lm9xNeXU"
      },
      "source": [
        "print(texto)"
      ],
      "execution_count": null,
      "outputs": []
    },
    {
      "cell_type": "code",
      "metadata": {
        "id": "qaLOgJqaNjY9"
      },
      "source": [
        "#importando os módulos necessários - os: operating system\n",
        "import os"
      ],
      "execution_count": null,
      "outputs": []
    },
    {
      "cell_type": "code",
      "metadata": {
        "id": "Wq_2OS7zNwTs"
      },
      "source": [
        "#criando um arquivo, caso ele não exista\n",
        "#e abrindo para escrita\n",
        "arquivo = open(os.path.join(\"arquivo.txt\"), \"w\")"
      ],
      "execution_count": null,
      "outputs": []
    },
    {
      "cell_type": "code",
      "metadata": {
        "id": "t6sA6OalObrN"
      },
      "source": [
        "#gravando os dados no arquivo\n",
        "for palavra in texto.split( ):\n",
        "    arquivo.write(palavra+' ')"
      ],
      "execution_count": null,
      "outputs": []
    },
    {
      "cell_type": "code",
      "metadata": {
        "id": "q1dPMbbMQxtU"
      },
      "source": [
        "#fechando o arquivo para escrita\n",
        "arquivo.close()"
      ],
      "execution_count": null,
      "outputs": []
    },
    {
      "cell_type": "code",
      "metadata": {
        "id": "sRtaFSqLQ2dN"
      },
      "source": [
        "#abrindo o arquivo para leitura e Lendo o arquivo\n",
        "arquivo = open(\"arquivo.txt\", \"r\")\n",
        "conteudo = arquivo.read()\n",
        "arquivo.close()\n"
      ],
      "execution_count": null,
      "outputs": []
    },
    {
      "cell_type": "code",
      "metadata": {
        "id": "9RVH5VZHRFst"
      },
      "source": [
        "#printando o texto\n",
        "print(conteudo)"
      ],
      "execution_count": null,
      "outputs": []
    },
    {
      "cell_type": "markdown",
      "metadata": {
        "id": "MzAWOY_-TZLO"
      },
      "source": [
        "## Expressão WITH"
      ]
    },
    {
      "cell_type": "code",
      "metadata": {
        "id": "iHEvJAhsRqu9"
      },
      "source": [
        "with open(\"arquivo.txt\", \"r\") as arquivo:\n",
        "    conteudo2 = arquivo.read()\n",
        "#com o arquivo txt aberto como arquivo, abra para leitura e guarde em conteudo2"
      ],
      "execution_count": null,
      "outputs": []
    },
    {
      "cell_type": "code",
      "metadata": {
        "id": "1HZ7YRh1TsGa"
      },
      "source": [
        "print(len(conteudo2))"
      ],
      "execution_count": null,
      "outputs": []
    },
    {
      "cell_type": "code",
      "metadata": {
        "id": "pIPtj2KFTwZE"
      },
      "source": [
        "print(conteudo2)"
      ],
      "execution_count": null,
      "outputs": []
    },
    {
      "cell_type": "code",
      "metadata": {
        "id": "URn_0o4kTy7T"
      },
      "source": [
        "with open(\"arquivo.txt\", \"w\") as arquivo:\n",
        "    arquivo.write(texto[:21])\n",
        "    arquivo.write(\"\\n\")\n",
        "    arquivo.write(texto[:33])"
      ],
      "execution_count": null,
      "outputs": []
    },
    {
      "cell_type": "code",
      "metadata": {
        "id": "9FxqoHzvUn8-"
      },
      "source": [
        "#lendo o arquivo\n",
        "arquivo = open(\"arquivo.txt\", \"r\")\n",
        "conteudo3 = arquivo.read()\n",
        "arquivo.close()\n",
        "\n",
        "print(conteudo)"
      ],
      "execution_count": null,
      "outputs": []
    },
    {
      "cell_type": "markdown",
      "metadata": {
        "id": "lK76_w1Ejfqk"
      },
      "source": [
        "# Manipulação de arquivos CSV"
      ]
    },
    {
      "cell_type": "code",
      "metadata": {
        "id": "9Q1uknUVU56u"
      },
      "source": [
        "# Importando o módulo csv\n",
        "import csv"
      ],
      "execution_count": null,
      "outputs": []
    },
    {
      "cell_type": "code",
      "metadata": {
        "id": "81ZWuztsjsVM"
      },
      "source": [
        "#criar arquivo, abrir para escrita e gravar\n",
        "with open(\"numeros.csv\", \"w\") as arquivo:\n",
        "    escritor = csv.writer(arquivo)\n",
        "    escritor.writerow((\"primeira\", \"segunda\", \"terceira\"))\n",
        "    escritor.writerow((12, 24, 36))\n",
        "    escritor.writerow((7, 14, 21))"
      ],
      "execution_count": null,
      "outputs": []
    },
    {
      "cell_type": "code",
      "metadata": {
        "id": "0Y-Vujchkbc1"
      },
      "source": [
        "#abrir para leitura\n",
        "with open(\"numeros.csv\", \"r\") as arquivo:\n",
        "    leitor = csv.reader(arquivo)\n",
        "    for item in leitor:\n",
        "        print(\"numero de colunas: \", len(item))\n",
        "        print(item)"
      ],
      "execution_count": null,
      "outputs": []
    },
    {
      "cell_type": "code",
      "metadata": {
        "id": "m8e8y7XKlNeW"
      },
      "source": [
        "#criar uma lista\n",
        "with open(\"numeros.csv\", \"r\") as arquivo:\n",
        "    leitor2 = csv.reader(arquivo)\n",
        "    dados = list(leitor2)\n",
        "    print(dados)"
      ],
      "execution_count": null,
      "outputs": []
    },
    {
      "cell_type": "code",
      "metadata": {
        "id": "P7ULMPltm-cH"
      },
      "source": [
        "#exemplo para retirar o cabeçalho\n",
        "for linha in dados[1:]:\n",
        "    print(linha)"
      ],
      "execution_count": null,
      "outputs": []
    },
    {
      "cell_type": "code",
      "metadata": {
        "id": "YkwOGWicnfHH"
      },
      "source": [
        ""
      ],
      "execution_count": null,
      "outputs": []
    }
  ]
}