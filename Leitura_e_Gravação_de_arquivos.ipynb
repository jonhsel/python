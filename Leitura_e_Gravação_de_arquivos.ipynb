{
  "nbformat": 4,
  "nbformat_minor": 0,
  "metadata": {
    "colab": {
      "name": "Leitura e Gravação de arquivos.ipynb",
      "private_outputs": true,
      "provenance": [],
      "authorship_tag": "ABX9TyO6y4nFppALJDu6W5LSfCcs",
      "include_colab_link": true
    },
    "kernelspec": {
      "name": "python3",
      "display_name": "Python 3"
    },
    "language_info": {
      "name": "python"
    }
  },
  "cells": [
    {
      "cell_type": "markdown",
      "metadata": {
        "id": "view-in-github",
        "colab_type": "text"
      },
      "source": [
        "<a href=\"https://colab.research.google.com/github/jonhsel/python/blob/master/Leitura_e_Grava%C3%A7%C3%A3o_de_arquivos.ipynb\" target=\"_parent\"><img src=\"https://colab.research.google.com/assets/colab-badge.svg\" alt=\"Open In Colab\"/></a>"
      ]
    },
    {
      "cell_type": "markdown",
      "metadata": {
        "id": "ZADsaN-To_H7"
      },
      "source": [
        "# Lendo arquivos"
      ]
    },
    {
      "cell_type": "code",
      "metadata": {
        "id": "rvXbHY2hpFJw"
      },
      "source": [
        "#abrindo arquivo para leitura\n",
        "arq1 = open(\"arquivo.txt\", \"r\")"
      ],
      "execution_count": null,
      "outputs": []
    },
    {
      "cell_type": "code",
      "metadata": {
        "id": "PxOHEpjppeCA"
      },
      "source": [
        "# Lendo o arquivo\n",
        "print(arq1.read())"
      ],
      "execution_count": null,
      "outputs": []
    },
    {
      "cell_type": "code",
      "metadata": {
        "id": "WgbS5XoGpn43"
      },
      "source": [
        "#Contar o número de caracteres\n",
        "print(arq1.tell())"
      ],
      "execution_count": null,
      "outputs": []
    },
    {
      "cell_type": "code",
      "metadata": {
        "id": "4-jz2nECqZPZ"
      },
      "source": [
        "#Retornar para o inicio do arquivo\n",
        "#Ao utilizar o read() uma vez, a posição vai para o final do arquivo\n",
        "print(arq1.seek(0,0))"
      ],
      "execution_count": null,
      "outputs": []
    },
    {
      "cell_type": "code",
      "metadata": {
        "id": "RcfiQwLUp4--"
      },
      "source": [
        "#Ler os primeiros 10 caractes\n",
        "print(arq1.read(10))"
      ],
      "execution_count": null,
      "outputs": []
    },
    {
      "cell_type": "markdown",
      "metadata": {
        "id": "hiOMnNRhrGuF"
      },
      "source": [
        "# Gravando Arquivos"
      ]
    },
    {
      "cell_type": "code",
      "metadata": {
        "id": "a4EA4fd4rD1H"
      },
      "source": [
        "#Abrindo o arquivo para escrita\n",
        "arq2 = open(\"arquivo.txt\", \"w\")"
      ],
      "execution_count": null,
      "outputs": []
    },
    {
      "cell_type": "code",
      "metadata": {
        "id": "vwNv4-r8reCp"
      },
      "source": [
        "#escrevendo no arquivo\n",
        "arq2.write(\"testando a gravação do arquivo\")"
      ],
      "execution_count": null,
      "outputs": []
    },
    {
      "cell_type": "markdown",
      "metadata": {
        "id": "mGJ7yHuksWsw"
      },
      "source": [
        "indicou que foram gravados 30 caracteres"
      ]
    },
    {
      "cell_type": "code",
      "metadata": {
        "id": "qPuTWxJvr3Yr"
      },
      "source": [
        "#abrindo o aqruivo para leitura\n",
        "arq2 = open(\"arquivo.txt\", \"r\")"
      ],
      "execution_count": null,
      "outputs": []
    },
    {
      "cell_type": "code",
      "metadata": {
        "id": "79XB7t8LsFeQ"
      },
      "source": [
        "#lendo o arquivo\n",
        "print(arq2.read())"
      ],
      "execution_count": null,
      "outputs": []
    },
    {
      "cell_type": "markdown",
      "metadata": {
        "id": "Slfd-0CasjKc"
      },
      "source": [
        "a escrita foi sobreposta"
      ]
    },
    {
      "cell_type": "code",
      "metadata": {
        "id": "6sSm3Va6sRZs"
      },
      "source": [
        "# utilizando o parametro \"a\" para trabalharmos no modo \"append\".\n",
        "#para incluir sem sobrepor\n",
        "arq2 = open(\"arquivo.txt\", \"a\")"
      ],
      "execution_count": null,
      "outputs": []
    },
    {
      "cell_type": "code",
      "metadata": {
        "id": "Fty4vdB-s8a7"
      },
      "source": [
        "#grava-se a nova mensgem\n",
        "arq2.write(\" / acrescentando conteudo\")"
      ],
      "execution_count": null,
      "outputs": []
    },
    {
      "cell_type": "code",
      "metadata": {
        "id": "Fi5vc2tvtDDQ"
      },
      "source": [
        "#fechando a conexão\n",
        "arq2.close()"
      ],
      "execution_count": null,
      "outputs": []
    },
    {
      "cell_type": "code",
      "metadata": {
        "id": "k_PGZbdltMRS"
      },
      "source": [
        "#abrindo novamente para leitura\n",
        "arq2 = open(\"arquivo.txt\", \"r\")"
      ],
      "execution_count": null,
      "outputs": []
    },
    {
      "cell_type": "code",
      "metadata": {
        "id": "7qZHu6HltV7U"
      },
      "source": [
        "#lendo o arquivo\n",
        "print(arq2.read())"
      ],
      "execution_count": null,
      "outputs": []
    },
    {
      "cell_type": "code",
      "metadata": {
        "id": "qTWadJb9tcsq"
      },
      "source": [
        ""
      ],
      "execution_count": null,
      "outputs": []
    }
  ]
}