{
 "cells": [
  {
   "cell_type": "markdown",
   "metadata": {},
   "source": [
    "# INSERINDO DADOS COM VARIAVEIS"
   ]
  },
  {
   "cell_type": "code",
   "execution_count": 24,
   "metadata": {},
   "outputs": [],
   "source": [
    "import sqlite3\n",
    "import random\n",
    "import time\n",
    "import datetime\n",
    "\n",
    "#criando uma conexao sqlite\n",
    "conn = sqlite3.connect('dsa.db')\n",
    "\n",
    "#criando um cursor\n",
    "cur = conn.cursor()\n",
    "\n",
    "#Funcao para criar tabela\n",
    "def create_table():\n",
    "    cur.execute('CREATE TABLE IF NOT EXISTS produtos(id INTEGER PRIMARY KEY AUTOINCREMENT NOT NULL,'\\\n",
    "                'date TEXT, prod_name TEXT, valor REAL)')\n",
    "\n",
    "#Funcao para inserir uma linha\n",
    "def data_insert():\n",
    "    cur.execute(\"INSERT INTO produtos VALUES (1,'2021-01-12 13:40:00', 'TECLADO', 125.00)\")\n",
    "    conn.commit()\n",
    "    cur.close()\n",
    "    conn.close()\n",
    "    \n",
    "#funcção de pesquisa\n",
    "def data_select():\n",
    "    cur.execute('SELECT * FROM produtos')\n",
    "    for linha in cur.fetchall():\n",
    "        print(linha)\n",
    "        \n",
    "#pesquisar dados espeficificos\n",
    "def data_select_esp():\n",
    "    cur.execute('SELECT * FROM produtos WHERE valor>85.0')\n",
    "    for linha in cur.fetchall():\n",
    "        print(linha)\n",
    "        \n",
    "#pesquisar apenas uma coluna\n",
    "def data_select_coluna():\n",
    "    cur.execute('SELECT * FROM produtos')\n",
    "    for linha in cur.fetchall():\n",
    "        print(linha[3])\n",
    "        \n",
    "        \n",
    "#Utilizando variaveis para inserir dados\n",
    "def data_insert_var():\n",
    "    new_id = random.randrange(2,100)\n",
    "    new_date = datetime.datetime.now()\n",
    "    new_prod_name = 'MONITOR'\n",
    "    new_valor = random.randrange(50, 100)\n",
    "    cur.execute(\"INSERT INTO produtos VALUES(?,?, ?, ?)\", (new_id, new_date, new_prod_name, new_valor))\n",
    "    conn.commit()\n",
    "    \n",
    "#Atualiza dados\n",
    "def data_update():\n",
    "    cur.execute(\"UPDATE produtos SET valor = 70.0 WHERE valor = 88.0\")\n",
    "    conn.commit()\n",
    "    #lembre-se de sempre utilizar o WHERE\n",
    "    \n",
    "\n",
    "#Deleta dados\n",
    "def data_delete():\n",
    "    cur.execute(\"DELETE FROM produtos WHERE valor = 71.0\")\n",
    "    conn.commit()\n",
    "    \n",
    "#encerrar conexao\n",
    "def encerra_con():\n",
    "    cur.close()\n",
    "    conn.close()\n"
   ]
  },
  {
   "cell_type": "code",
   "execution_count": 16,
   "metadata": {},
   "outputs": [],
   "source": [
    "create_table()"
   ]
  },
  {
   "cell_type": "code",
   "execution_count": null,
   "metadata": {},
   "outputs": [],
   "source": [
    "data_insert()"
   ]
  },
  {
   "cell_type": "code",
   "execution_count": 17,
   "metadata": {},
   "outputs": [
    {
     "name": "stdout",
     "output_type": "stream",
     "text": [
      "(1, '2021-01-12 13:40:00', 'TECLADO', 125.0)\n",
      "(13, '2021-01-12 14:06:07.393682', 'MONITOR', 96.0)\n",
      "(21, '2021-01-12 14:06:29.952740', 'MONITOR', 92.0)\n",
      "(34, '2021-01-12 14:06:21.891791', 'MONITOR', 99.0)\n",
      "(40, '2021-01-12 14:06:31.149495', 'MONITOR', 64.0)\n",
      "(42, '2021-01-12 14:06:23.067442', 'MONITOR', 71.0)\n",
      "(47, '2021-01-12 14:06:20.720973', 'MONITOR', 65.0)\n",
      "(50, '2021-01-12 14:06:24.217520', 'MONITOR', 94.0)\n",
      "(55, '2021-01-12 14:06:25.368482', 'MONITOR', 74.0)\n",
      "(60, '2021-01-12 14:06:28.840739', 'MONITOR', 88.0)\n",
      "(82, '2021-01-12 14:06:27.619298', 'MONITOR', 56.0)\n",
      "(98, '2021-01-12 14:06:26.498262', 'MONITOR', 81.0)\n"
     ]
    }
   ],
   "source": [
    "data_select()"
   ]
  },
  {
   "cell_type": "code",
   "execution_count": null,
   "metadata": {},
   "outputs": [],
   "source": [
    "data_insert_var()"
   ]
  },
  {
   "cell_type": "code",
   "execution_count": 10,
   "metadata": {},
   "outputs": [
    {
     "ename": "ProgrammingError",
     "evalue": "Cannot operate on a closed cursor.",
     "output_type": "error",
     "traceback": [
      "\u001b[1;31m---------------------------------------------------------------------------\u001b[0m",
      "\u001b[1;31mProgrammingError\u001b[0m                          Traceback (most recent call last)",
      "\u001b[1;32m<ipython-input-10-4a0b6af0c49e>\u001b[0m in \u001b[0;36m<module>\u001b[1;34m\u001b[0m\n\u001b[0;32m      1\u001b[0m \u001b[1;31m#inserindo dados\u001b[0m\u001b[1;33m\u001b[0m\u001b[1;33m\u001b[0m\u001b[1;33m\u001b[0m\u001b[0m\n\u001b[0;32m      2\u001b[0m \u001b[1;32mfor\u001b[0m \u001b[0mi\u001b[0m \u001b[1;32min\u001b[0m \u001b[0mrange\u001b[0m\u001b[1;33m(\u001b[0m\u001b[1;36m10\u001b[0m\u001b[1;33m)\u001b[0m\u001b[1;33m:\u001b[0m\u001b[1;33m\u001b[0m\u001b[1;33m\u001b[0m\u001b[0m\n\u001b[1;32m----> 3\u001b[1;33m     \u001b[0mdata_insert_var\u001b[0m\u001b[1;33m(\u001b[0m\u001b[1;33m)\u001b[0m\u001b[1;33m\u001b[0m\u001b[1;33m\u001b[0m\u001b[0m\n\u001b[0m\u001b[0;32m      4\u001b[0m     \u001b[0mtime\u001b[0m\u001b[1;33m.\u001b[0m\u001b[0msleep\u001b[0m\u001b[1;33m(\u001b[0m\u001b[1;36m1\u001b[0m\u001b[1;33m)\u001b[0m\u001b[1;33m\u001b[0m\u001b[1;33m\u001b[0m\u001b[0m\n",
      "\u001b[1;32m<ipython-input-8-f891d37920a6>\u001b[0m in \u001b[0;36mdata_insert_var\u001b[1;34m()\u001b[0m\n\u001b[0;32m     34\u001b[0m     \u001b[0mnew_prod_name\u001b[0m \u001b[1;33m=\u001b[0m \u001b[1;34m'MONITOR'\u001b[0m\u001b[1;33m\u001b[0m\u001b[1;33m\u001b[0m\u001b[0m\n\u001b[0;32m     35\u001b[0m     \u001b[0mnew_valor\u001b[0m \u001b[1;33m=\u001b[0m \u001b[0mrandom\u001b[0m\u001b[1;33m.\u001b[0m\u001b[0mrandrange\u001b[0m\u001b[1;33m(\u001b[0m\u001b[1;36m50\u001b[0m\u001b[1;33m,\u001b[0m \u001b[1;36m100\u001b[0m\u001b[1;33m)\u001b[0m\u001b[1;33m\u001b[0m\u001b[1;33m\u001b[0m\u001b[0m\n\u001b[1;32m---> 36\u001b[1;33m     \u001b[0mcur\u001b[0m\u001b[1;33m.\u001b[0m\u001b[0mexecute\u001b[0m\u001b[1;33m(\u001b[0m\u001b[1;34m\"INSERT INTO produtos VALUES(?,?, ?, ?)\"\u001b[0m\u001b[1;33m,\u001b[0m \u001b[1;33m(\u001b[0m\u001b[0mnew_id\u001b[0m\u001b[1;33m,\u001b[0m \u001b[0mnew_date\u001b[0m\u001b[1;33m,\u001b[0m \u001b[0mnew_prod_name\u001b[0m\u001b[1;33m,\u001b[0m \u001b[0mnew_valor\u001b[0m\u001b[1;33m)\u001b[0m\u001b[1;33m)\u001b[0m\u001b[1;33m\u001b[0m\u001b[1;33m\u001b[0m\u001b[0m\n\u001b[0m\u001b[0;32m     37\u001b[0m     \u001b[0mconn\u001b[0m\u001b[1;33m.\u001b[0m\u001b[0mcommit\u001b[0m\u001b[1;33m(\u001b[0m\u001b[1;33m)\u001b[0m\u001b[1;33m\u001b[0m\u001b[1;33m\u001b[0m\u001b[0m\n\u001b[0;32m     38\u001b[0m \u001b[1;33m\u001b[0m\u001b[0m\n",
      "\u001b[1;31mProgrammingError\u001b[0m: Cannot operate on a closed cursor."
     ]
    }
   ],
   "source": [
    "#inserindo dados\n",
    "for i in range(10):\n",
    "    data_insert_var()\n",
    "    time.sleep(1)"
   ]
  },
  {
   "cell_type": "code",
   "execution_count": 14,
   "metadata": {},
   "outputs": [
    {
     "name": "stdout",
     "output_type": "stream",
     "text": [
      "(1, '2021-01-12 13:40:00', 'TECLADO', 125.0)\n",
      "(13, '2021-01-12 14:06:07.393682', 'MONITOR', 96.0)\n",
      "(21, '2021-01-12 14:06:29.952740', 'MONITOR', 92.0)\n",
      "(34, '2021-01-12 14:06:21.891791', 'MONITOR', 99.0)\n",
      "(40, '2021-01-12 14:06:31.149495', 'MONITOR', 64.0)\n",
      "(42, '2021-01-12 14:06:23.067442', 'MONITOR', 71.0)\n",
      "(47, '2021-01-12 14:06:20.720973', 'MONITOR', 65.0)\n",
      "(50, '2021-01-12 14:06:24.217520', 'MONITOR', 94.0)\n",
      "(55, '2021-01-12 14:06:25.368482', 'MONITOR', 74.0)\n",
      "(60, '2021-01-12 14:06:28.840739', 'MONITOR', 88.0)\n",
      "(82, '2021-01-12 14:06:27.619298', 'MONITOR', 56.0)\n",
      "(98, '2021-01-12 14:06:26.498262', 'MONITOR', 81.0)\n"
     ]
    }
   ],
   "source": [
    "data_select()"
   ]
  },
  {
   "cell_type": "code",
   "execution_count": 20,
   "metadata": {},
   "outputs": [
    {
     "name": "stdout",
     "output_type": "stream",
     "text": [
      "(1, '2021-01-12 13:40:00', 'TECLADO', 125.0)\n",
      "(13, '2021-01-12 14:06:07.393682', 'MONITOR', 96.0)\n",
      "(21, '2021-01-12 14:06:29.952740', 'MONITOR', 92.0)\n",
      "(34, '2021-01-12 14:06:21.891791', 'MONITOR', 99.0)\n",
      "(50, '2021-01-12 14:06:24.217520', 'MONITOR', 94.0)\n",
      "(60, '2021-01-12 14:06:28.840739', 'MONITOR', 88.0)\n"
     ]
    }
   ],
   "source": [
    "data_select_esp()"
   ]
  },
  {
   "cell_type": "code",
   "execution_count": 22,
   "metadata": {},
   "outputs": [
    {
     "name": "stdout",
     "output_type": "stream",
     "text": [
      "125.0\n",
      "96.0\n",
      "92.0\n",
      "99.0\n",
      "64.0\n",
      "71.0\n",
      "65.0\n",
      "94.0\n",
      "74.0\n",
      "88.0\n",
      "56.0\n",
      "81.0\n"
     ]
    }
   ],
   "source": [
    "data_select_coluna()"
   ]
  },
  {
   "cell_type": "code",
   "execution_count": 25,
   "metadata": {},
   "outputs": [
    {
     "name": "stdout",
     "output_type": "stream",
     "text": [
      "(1, '2021-01-12 13:40:00', 'TECLADO', 125.0)\n",
      "(13, '2021-01-12 14:06:07.393682', 'MONITOR', 96.0)\n",
      "(21, '2021-01-12 14:06:29.952740', 'MONITOR', 92.0)\n",
      "(34, '2021-01-12 14:06:21.891791', 'MONITOR', 99.0)\n",
      "(40, '2021-01-12 14:06:31.149495', 'MONITOR', 64.0)\n",
      "(42, '2021-01-12 14:06:23.067442', 'MONITOR', 71.0)\n",
      "(47, '2021-01-12 14:06:20.720973', 'MONITOR', 65.0)\n",
      "(50, '2021-01-12 14:06:24.217520', 'MONITOR', 94.0)\n",
      "(55, '2021-01-12 14:06:25.368482', 'MONITOR', 74.0)\n",
      "(60, '2021-01-12 14:06:28.840739', 'MONITOR', 88.0)\n",
      "(82, '2021-01-12 14:06:27.619298', 'MONITOR', 56.0)\n",
      "(98, '2021-01-12 14:06:26.498262', 'MONITOR', 81.0)\n"
     ]
    }
   ],
   "source": [
    "data_select()"
   ]
  },
  {
   "cell_type": "code",
   "execution_count": 26,
   "metadata": {},
   "outputs": [],
   "source": [
    "data_update()"
   ]
  },
  {
   "cell_type": "code",
   "execution_count": 27,
   "metadata": {},
   "outputs": [
    {
     "name": "stdout",
     "output_type": "stream",
     "text": [
      "(1, '2021-01-12 13:40:00', 'TECLADO', 125.0)\n",
      "(13, '2021-01-12 14:06:07.393682', 'MONITOR', 96.0)\n",
      "(21, '2021-01-12 14:06:29.952740', 'MONITOR', 92.0)\n",
      "(34, '2021-01-12 14:06:21.891791', 'MONITOR', 99.0)\n",
      "(40, '2021-01-12 14:06:31.149495', 'MONITOR', 64.0)\n",
      "(42, '2021-01-12 14:06:23.067442', 'MONITOR', 71.0)\n",
      "(47, '2021-01-12 14:06:20.720973', 'MONITOR', 65.0)\n",
      "(50, '2021-01-12 14:06:24.217520', 'MONITOR', 94.0)\n",
      "(55, '2021-01-12 14:06:25.368482', 'MONITOR', 74.0)\n",
      "(60, '2021-01-12 14:06:28.840739', 'MONITOR', 70.0)\n",
      "(82, '2021-01-12 14:06:27.619298', 'MONITOR', 56.0)\n",
      "(98, '2021-01-12 14:06:26.498262', 'MONITOR', 81.0)\n"
     ]
    }
   ],
   "source": [
    "data_select()"
   ]
  },
  {
   "cell_type": "code",
   "execution_count": 28,
   "metadata": {},
   "outputs": [],
   "source": [
    "data_delete()"
   ]
  },
  {
   "cell_type": "code",
   "execution_count": 31,
   "metadata": {},
   "outputs": [
    {
     "ename": "ProgrammingError",
     "evalue": "Cannot operate on a closed cursor.",
     "output_type": "error",
     "traceback": [
      "\u001b[1;31m---------------------------------------------------------------------------\u001b[0m",
      "\u001b[1;31mProgrammingError\u001b[0m                          Traceback (most recent call last)",
      "\u001b[1;32m<ipython-input-31-f57bd6271153>\u001b[0m in \u001b[0;36m<module>\u001b[1;34m\u001b[0m\n\u001b[1;32m----> 1\u001b[1;33m \u001b[0mdata_select\u001b[0m\u001b[1;33m(\u001b[0m\u001b[1;33m)\u001b[0m\u001b[1;33m\u001b[0m\u001b[1;33m\u001b[0m\u001b[0m\n\u001b[0m",
      "\u001b[1;32m<ipython-input-24-41e320553b20>\u001b[0m in \u001b[0;36mdata_select\u001b[1;34m()\u001b[0m\n\u001b[0;32m     24\u001b[0m \u001b[1;31m#funcção de pesquisa\u001b[0m\u001b[1;33m\u001b[0m\u001b[1;33m\u001b[0m\u001b[1;33m\u001b[0m\u001b[0m\n\u001b[0;32m     25\u001b[0m \u001b[1;32mdef\u001b[0m \u001b[0mdata_select\u001b[0m\u001b[1;33m(\u001b[0m\u001b[1;33m)\u001b[0m\u001b[1;33m:\u001b[0m\u001b[1;33m\u001b[0m\u001b[1;33m\u001b[0m\u001b[0m\n\u001b[1;32m---> 26\u001b[1;33m     \u001b[0mcur\u001b[0m\u001b[1;33m.\u001b[0m\u001b[0mexecute\u001b[0m\u001b[1;33m(\u001b[0m\u001b[1;34m'SELECT * FROM produtos'\u001b[0m\u001b[1;33m)\u001b[0m\u001b[1;33m\u001b[0m\u001b[1;33m\u001b[0m\u001b[0m\n\u001b[0m\u001b[0;32m     27\u001b[0m     \u001b[1;32mfor\u001b[0m \u001b[0mlinha\u001b[0m \u001b[1;32min\u001b[0m \u001b[0mcur\u001b[0m\u001b[1;33m.\u001b[0m\u001b[0mfetchall\u001b[0m\u001b[1;33m(\u001b[0m\u001b[1;33m)\u001b[0m\u001b[1;33m:\u001b[0m\u001b[1;33m\u001b[0m\u001b[1;33m\u001b[0m\u001b[0m\n\u001b[0;32m     28\u001b[0m         \u001b[0mprint\u001b[0m\u001b[1;33m(\u001b[0m\u001b[0mlinha\u001b[0m\u001b[1;33m)\u001b[0m\u001b[1;33m\u001b[0m\u001b[1;33m\u001b[0m\u001b[0m\n",
      "\u001b[1;31mProgrammingError\u001b[0m: Cannot operate on a closed cursor."
     ]
    }
   ],
   "source": [
    "data_select()"
   ]
  },
  {
   "cell_type": "code",
   "execution_count": 30,
   "metadata": {},
   "outputs": [],
   "source": [
    "encerra_con()"
   ]
  },
  {
   "cell_type": "code",
   "execution_count": null,
   "metadata": {},
   "outputs": [],
   "source": []
  }
 ],
 "metadata": {
  "kernelspec": {
   "display_name": "Python 3",
   "language": "python",
   "name": "python3"
  },
  "language_info": {
   "codemirror_mode": {
    "name": "ipython",
    "version": 3
   },
   "file_extension": ".py",
   "mimetype": "text/x-python",
   "name": "python",
   "nbconvert_exporter": "python",
   "pygments_lexer": "ipython3",
   "version": "3.7.6"
  }
 },
 "nbformat": 4,
 "nbformat_minor": 4
}
