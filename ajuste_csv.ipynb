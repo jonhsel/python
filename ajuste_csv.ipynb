{
  "nbformat": 4,
  "nbformat_minor": 0,
  "metadata": {
    "colab": {
      "name": "ajuste csv.ipynb",
      "provenance": [],
      "authorship_tag": "ABX9TyNljwwdaB4rxxuClL/PHR9c",
      "include_colab_link": true
    },
    "kernelspec": {
      "name": "python3",
      "display_name": "Python 3"
    }
  },
  "cells": [
    {
      "cell_type": "markdown",
      "metadata": {
        "id": "view-in-github",
        "colab_type": "text"
      },
      "source": [
        "<a href=\"https://colab.research.google.com/github/jonhsel/python/blob/master/ajuste_csv.ipynb\" target=\"_parent\"><img src=\"https://colab.research.google.com/assets/colab-badge.svg\" alt=\"Open In Colab\"/></a>"
      ]
    },
    {
      "cell_type": "code",
      "metadata": {
        "id": "GCRRpKT8j9K4",
        "colab_type": "code",
        "colab": {}
      },
      "source": [
        "import pandas as pd\n",
        "\n",
        "#DATA_PATH = \"https://raw.githubusercontent.com/jonhsel/python/master/mvi202005.csv\"\n",
        "\n",
        "#ENTRADA NDO ARQUIVO\n",
        "entrada = input(\"Digite nome do arquivo.csv: \")\n",
        "\n",
        "#APLICAÇÃO DAS EXTENSÕES\n",
        "print(entrada)\n",
        "nomeArquivocsv = entrada+'.csv'\n",
        "\n",
        "#AJUSTE DA TABELA\n",
        "\n",
        "print(nomeArquivocsv)\n",
        "print(\"tabela sendo ajustada. Separando ord e data\")"
      ],
      "execution_count": 0,
      "outputs": []
    },
    {
      "cell_type": "code",
      "metadata": {
        "id": "BTtKMovykk_s",
        "colab_type": "code",
        "colab": {}
      },
      "source": [
        "df = pd.read_csv(DATA_PATH)\n",
        "df_drop = df['ORD DATA'] \n",
        "lista = []\n",
        "for item in df_drop:\n",
        "    aux = str(item)\n",
        "    lista.append(aux[3:])\n",
        "#print(lista)\n",
        "df['ORD DATA'] = pd.DataFrame(lista)\n",
        "df['ORD DATA'] = pd.to_datetime(df['ORD DATA'], format=\"%d/%m/%y\")"
      ],
      "execution_count": 0,
      "outputs": []
    },
    {
      "cell_type": "code",
      "metadata": {
        "id": "dFYAdj_Eq88d",
        "colab_type": "code",
        "colab": {
          "base_uri": "https://localhost:8080/",
          "height": 198
        },
        "outputId": "d36fea2d-4dcc-4dd8-d2f7-f7cd2248c046"
      },
      "source": [
        "df.head()"
      ],
      "execution_count": 35,
      "outputs": [
        {
          "output_type": "execute_result",
          "data": {
            "text/html": [
              "<div>\n",
              "<style scoped>\n",
              "    .dataframe tbody tr th:only-of-type {\n",
              "        vertical-align: middle;\n",
              "    }\n",
              "\n",
              "    .dataframe tbody tr th {\n",
              "        vertical-align: top;\n",
              "    }\n",
              "\n",
              "    .dataframe thead th {\n",
              "        text-align: right;\n",
              "    }\n",
              "</style>\n",
              "<table border=\"1\" class=\"dataframe\">\n",
              "  <thead>\n",
              "    <tr style=\"text-align: right;\">\n",
              "      <th></th>\n",
              "      <th>ORD DATA</th>\n",
              "      <th>HORA</th>\n",
              "      <th>VÍTIMA</th>\n",
              "      <th>ID</th>\n",
              "      <th>ARMA</th>\n",
              "      <th>BAIRRO/FATO</th>\n",
              "      <th>MUNICÍPIO/FATO</th>\n",
              "      <th>TIPO</th>\n",
              "    </tr>\n",
              "  </thead>\n",
              "  <tbody>\n",
              "    <tr>\n",
              "      <th>0</th>\n",
              "      <td>2020-05-04</td>\n",
              "      <td>14:48</td>\n",
              "      <td>Deyson Abreu Silva</td>\n",
              "      <td>24</td>\n",
              "      <td>De fogo</td>\n",
              "      <td>Cidade Olímpica</td>\n",
              "      <td>São Luís</td>\n",
              "      <td>Homicídio Doloso</td>\n",
              "    </tr>\n",
              "    <tr>\n",
              "      <th>1</th>\n",
              "      <td>2020-05-05</td>\n",
              "      <td>18:00</td>\n",
              "      <td>Daniele Rocha Moraes</td>\n",
              "      <td>25</td>\n",
              "      <td>Outros meios</td>\n",
              "      <td>Santa Bárbara</td>\n",
              "      <td>São Luís</td>\n",
              "      <td>Homicídio Doloso</td>\n",
              "    </tr>\n",
              "    <tr>\n",
              "      <th>2</th>\n",
              "      <td>2020-05-07</td>\n",
              "      <td>20:23</td>\n",
              "      <td>Valdeilson Dos Anjos Neves</td>\n",
              "      <td>40</td>\n",
              "      <td>De fogo</td>\n",
              "      <td>Gapara</td>\n",
              "      <td>São Luís</td>\n",
              "      <td>Homicídio Doloso</td>\n",
              "    </tr>\n",
              "    <tr>\n",
              "      <th>3</th>\n",
              "      <td>2020-05-08</td>\n",
              "      <td>19:30</td>\n",
              "      <td>Paulo Roberto Moreira Pereira</td>\n",
              "      <td>34</td>\n",
              "      <td>De fogo</td>\n",
              "      <td>Cidade Operária</td>\n",
              "      <td>São Luís</td>\n",
              "      <td>Homicídio Doloso</td>\n",
              "    </tr>\n",
              "    <tr>\n",
              "      <th>4</th>\n",
              "      <td>2020-05-09</td>\n",
              "      <td>16:00</td>\n",
              "      <td>Marcos Roberto Lopes Pereira</td>\n",
              "      <td>31</td>\n",
              "      <td>De fogo</td>\n",
              "      <td>Vila São Sebastião</td>\n",
              "      <td>São Luís</td>\n",
              "      <td>Homicídio Doloso</td>\n",
              "    </tr>\n",
              "  </tbody>\n",
              "</table>\n",
              "</div>"
            ],
            "text/plain": [
              "    ORD DATA   HORA  ... MUNICÍPIO/FATO              TIPO\n",
              "0 2020-05-04  14:48  ...       São Luís  Homicídio Doloso\n",
              "1 2020-05-05  18:00  ...       São Luís  Homicídio Doloso\n",
              "2 2020-05-07  20:23  ...       São Luís  Homicídio Doloso\n",
              "3 2020-05-08  19:30  ...       São Luís  Homicídio Doloso\n",
              "4 2020-05-09  16:00  ...       São Luís  Homicídio Doloso\n",
              "\n",
              "[5 rows x 8 columns]"
            ]
          },
          "metadata": {
            "tags": []
          },
          "execution_count": 35
        }
      ]
    },
    {
      "cell_type": "code",
      "metadata": {
        "id": "Nr7xEWljrSA3",
        "colab_type": "code",
        "colab": {}
      },
      "source": [
        ""
      ],
      "execution_count": 0,
      "outputs": []
    }
  ]
}